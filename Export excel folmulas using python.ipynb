{
 "cells": [
  {
   "cell_type": "markdown",
   "id": "6732010e-97b4-4556-99e7-0cacd3469746",
   "metadata": {},
   "source": [
    "## <font color='###D4EDDA'>Step 1: Import the necessary Python libraries</font>"
   ]
  },
  {
   "cell_type": "code",
   "execution_count": 19,
   "id": "0b516548-f87d-4db3-b1ff-60712e757015",
   "metadata": {},
   "outputs": [],
   "source": [
    "import requests\n",
    "import xlsxwriter\n",
    "import pandas as pd\n",
    "from bs4 import BeautifulSoup\n",
    "from io import StringIO\n",
    "import os"
   ]
  },
  {
   "cell_type": "markdown",
   "id": "b49aa1ad-fda4-409f-8a78-c82053c201af",
   "metadata": {},
   "source": [
    "## <font color='##F2F2F2'> Step 2: Define the URL and send an HTTP GET Request</font>"
   ]
  },
  {
   "cell_type": "code",
   "execution_count": 20,
   "id": "ddcf485a-5556-485e-b134-85fff599359f",
   "metadata": {},
   "outputs": [],
   "source": [
    "# URL of the website containing the Excel function information\n",
    "url = \"https://support.microsoft.com/en-us/office/excel-functions-alphabetical-b3944572-255d-4efb-bb96-c6d90033e188#bm6\"\n",
    "\n",
    "\n",
    "# Send an HTTP GET request to the URL\n",
    "response = requests.get(url)"
   ]
  },
  {
   "cell_type": "markdown",
   "id": "2819ba9d-2d71-4dc6-a6d3-7fb62e54ae91",
   "metadata": {},
   "source": [
    "## <font color='##FFF3CD'> Step 3: Parse HTML Content and Define the output directory path</font>"
   ]
  },
  {
   "cell_type": "code",
   "execution_count": 21,
   "id": "ec8f73a1-3dda-43aa-b90d-6a32a753dcd5",
   "metadata": {},
   "outputs": [],
   "source": [
    "# Check if the request was successful (status code 200)\n",
    "if response.status_code == 200:\n",
    "    pass\n",
    "else:\n",
    "    print(\"Failed to retrieve the webpage.\")\n",
    "    \n",
    "# Parse the HTML content using BeautifulSoup\n",
    "soup = BeautifulSoup(response.content, \"html.parser\")\n",
    "        \n",
    "# Define the directory where you want to save the Excel file\n",
    "output_directory = \"pase/your/filepath/here\"\n",
    "            \n",
    "# Define the full file path including the directory and file name\n",
    "output_file_path = os.path.join(output_directory, \"All Excel Formulas.xlsx\")\n",
    "\n",
    "# Create a Pandas Excel writer using XlsxWriter as the engine and specify the output file path\n",
    "excel_writer = pd.ExcelWriter(output_file_path, engine=\"xlsxwriter\")"
   ]
  },
  {
   "cell_type": "markdown",
   "id": "9db872ec-9597-4095-82e2-ed9324a90428",
   "metadata": {},
   "source": [
    "## <font color='#FF99CC'> Step 4: Apply Formats to Title and Columns</font>"
   ]
  },
  {
   "cell_type": "code",
   "execution_count": 22,
   "id": "6cbfacc2-7050-428d-9152-1f8b2e3003fe",
   "metadata": {},
   "outputs": [],
   "source": [
    "# Find all tables on the page\n",
    "tables = soup.find_all(\"table\")\n",
    "\n",
    "# Define formats for the title and data columns\n",
    "title_format = excel_writer.book.add_format({\n",
    "    'bold': True,\n",
    "    'font_name': 'Calibri',  # Change font name here\n",
    "    'bg_color': '#3366FF',   # Change background color here\n",
    "    'align': 'center',  # Center-align the text\n",
    "    'valign': 'vcenter'  # Center-align vertically\n",
    "})"
   ]
  },
  {
   "cell_type": "markdown",
   "id": "bd5317b5-c3c5-4392-b5e5-a319f9a20183",
   "metadata": {},
   "source": [
    "## <font color='#FFCC00'> Step 5: Extract and Process Tables</font>"
   ]
  },
  {
   "cell_type": "code",
   "execution_count": 23,
   "id": "fc703319-4660-4d18-8ab9-da098466d5b4",
   "metadata": {},
   "outputs": [],
   "source": [
    "\n",
    "    # Iterate through the tables and save them to Excel\n",
    "    for index, table in enumerate(tables):\n",
    "        # Convert the table to a Pandas DataFrame\n",
    "        html_str = str(table)\n",
    "        html_io = StringIO(html_str)\n",
    "        df = pd.read_html(html_io)[0]\n",
    "\n",
    "        # Initialize empty lists to store modified data\n",
    "        new_columns = ['Function', 'Type', 'Description']\n",
    "        new_data = []\n",
    "        \n",
    "        for row in df.values:\n",
    "            function = row[0]\n",
    "            type_desc = row[1]\n",
    "            type_info, description = type_desc.split(': ', 1) if ': ' in type_desc else ('', type_desc)\n",
    "            new_data.append([function, type_info, description])\n",
    "\n",
    "        # Create a new DataFrame with modified data and columns\n",
    "        new_df = pd.DataFrame(new_data, columns=new_columns)\n",
    "        \n",
    "        # Write the DataFrame to the Excel file\n",
    "        sheet_name = f\"Excel_formula{index}\"\n",
    "        new_df.to_excel(excel_writer, sheet_name=sheet_name, index=False)\n",
    "        \n",
    "        # Get the worksheet object\n",
    "        worksheet = excel_writer.sheets[sheet_name]\n",
    "\n",
    "        # Calculate the maximum width for each column\n",
    "        num_columns = len(new_columns)\n",
    "        max_widths = [0] * num_columns\n",
    "        \n",
    "        for _, row in new_df.iterrows():\n",
    "            for col_num in range(num_columns):\n",
    "                col_name = new_columns[col_num]\n",
    "                cell_data = str(row[col_name])\n",
    "                max_widths[col_num] = max(max_widths[col_num], len(cell_data))\n",
    "\n",
    "        # Set column widths based on the maximum width for each column\n",
    "        for col_num in range(num_columns):\n",
    "            worksheet.set_column(col_num, col_num, max_widths[col_num] + 2)  # Add extra space for padding\n",
    "\n",
    "        # Write column headers\n",
    "        for col_num, col_name in enumerate(new_columns):\n",
    "            worksheet.write(0, col_num, col_name, title_format)\n"
   ]
  },
  {
   "cell_type": "markdown",
   "id": "9d6ec49a-5d60-4cdd-b421-68431dd9f143",
   "metadata": {},
   "source": [
    "## <font color='##ADD8E6'> Step 6: Save Excel file</font>"
   ]
  },
  {
   "cell_type": "code",
   "execution_count": 24,
   "id": "6db5c3ad-ec28-4588-a2b1-8c052f1bdcd6",
   "metadata": {},
   "outputs": [
    {
     "name": "stdout",
     "output_type": "stream",
     "text": [
      "Tables extracted with all excel formulas and save as 'All Excel Formulas.xlsx'.\n"
     ]
    }
   ],
   "source": [
    "    # Save the Excel file\n",
    "excel_writer.close()\n",
    "    print(\"Tables extracted with all excel formulas and save as 'All Excel Formulas.xlsx'.\")"
   ]
  }
 ],
 "metadata": {
  "kernelspec": {
   "display_name": "Python 3 (ipykernel)",
   "language": "python",
   "name": "python3"
  },
  "language_info": {
   "codemirror_mode": {
    "name": "ipython",
    "version": 3
   },
   "file_extension": ".py",
   "mimetype": "text/x-python",
   "name": "python",
   "nbconvert_exporter": "python",
   "pygments_lexer": "ipython3",
   "version": "3.11.4"
  }
 },
 "nbformat": 4,
 "nbformat_minor": 5
}
